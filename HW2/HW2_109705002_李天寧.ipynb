{
  "nbformat": 4,
  "nbformat_minor": 0,
  "metadata": {
    "colab": {
      "provenance": []
    },
    "kernelspec": {
      "name": "python3",
      "display_name": "Python 3"
    },
    "language_info": {
      "name": "python"
    }
  },
  "cells": [
    {
      "cell_type": "code",
      "execution_count": null,
      "metadata": {
        "id": "_1jK-Ks9xeAq"
      },
      "outputs": [],
      "source": [
        "import math\n",
        "import numpy as np\n",
        "import matplotlib.pyplot as plt\n",
        "from scipy.stats import norm"
      ]
    },
    {
      "cell_type": "code",
      "source": [
        "def blscall(S,K,T,r,vol):\n",
        "  d1 = (math.log(S/K)+(r+vol*vol/2)*T)/(vol*math.sqrt(T))\n",
        "  d2 = d1-vol*math.sqrt(T)\n",
        "  c = S*norm.cdf(d1)-K*math.exp(-r*T)*norm.cdf(d2)\n",
        "  return c\n",
        "\n",
        "def BisectionBLS(S,K,T,r,call):\n",
        "  left = 1e-8\n",
        "  right = 1\n",
        "  threshold = 1e-8\n",
        "  while right-left>=threshold:\n",
        "    middle = (left+right)/2\n",
        "    if(blscall(S,K,T,r,left)-call)*(blscall(S,K,T,r,middle)-call)<0:\n",
        "      right = middle\n",
        "    else:\n",
        "      left = middle\n",
        "  return (left+right)/2\n",
        "\n",
        "price = [(13000 + i*100) for i in range(21)]\n",
        "call = [675, 610 ,525, 448, 395, 345, 289, 238, 194, 153, 120, 92, 69, 52, 39.5, 28, 20.5, 16, 12, 9.8, 8.5]\n",
        "put = [139, 163, 189, 221, 255, 291, 338, 388, 439, 505, 565, 640, 730, 800, 900, 995, 1090, 1180, 1290, 1380, 1470]\n",
        "ST = np.arange(13000, 15000)\n",
        "\n",
        "T = 0.038\n",
        "r = 0.0165\n",
        "V = []\n",
        "for i in range(len(price)):\n",
        "  V.append(BisectionBLS(13552.46,price[i],T,r,call[i]))\n",
        "\n",
        "\n",
        "plt.plot(price, V, 'r-', [13000, 15000], [0.24, 0.24], 'k--')\n"
      ],
      "metadata": {
        "colab": {
          "base_uri": "https://localhost:8080/",
          "height": 301
        },
        "id": "qYsQEcbVxklX",
        "outputId": "23699a68-2024-483a-eea2-f14155dcf16b"
      },
      "execution_count": null,
      "outputs": [
        {
          "output_type": "execute_result",
          "data": {
            "text/plain": [
              "[<matplotlib.lines.Line2D at 0x7f8d6cdc59d0>,\n",
              " <matplotlib.lines.Line2D at 0x7f8d6cdd0e10>]"
            ]
          },
          "metadata": {},
          "execution_count": 16
        },
        {
          "output_type": "display_data",
          "data": {
            "text/plain": [
              "<Figure size 432x288 with 1 Axes>"
            ],
            "image/png": "[encoded data removed]"
          },
          "metadata": {
            "needs_background": "light"
          }
        }
      ]
    }
  ]
}